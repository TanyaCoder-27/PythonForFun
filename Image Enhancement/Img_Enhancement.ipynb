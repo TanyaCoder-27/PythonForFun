{
 "cells": [
  {
   "cell_type": "code",
   "execution_count": 1,
   "id": "29fb373b",
   "metadata": {},
   "outputs": [],
   "source": [
    "import cv2"
   ]
  },
  {
   "cell_type": "code",
   "execution_count": 2,
   "id": "0a23dae5",
   "metadata": {},
   "outputs": [],
   "source": [
    "img = cv2.imread('D:\\ea.jpg')"
   ]
  },
  {
   "cell_type": "code",
   "execution_count": 3,
   "id": "f5836df4",
   "metadata": {},
   "outputs": [],
   "source": [
    "clahe = cv2.createCLAHE() /*clahe for enhancement*/"
   ]
  },
  {
   "cell_type": "code",
   "execution_count": 4,
   "id": "fb7f845d",
   "metadata": {},
   "outputs": [],
   "source": [
    "gray_img = cv2.cvtColor(img,cv2.COLOR_BGR2GRAY)/*img enhancement best accurate for gray images*/"
   ]
  },
  {
   "cell_type": "code",
   "execution_count": 5,
   "id": "595c8b0e",
   "metadata": {},
   "outputs": [],
   "source": [
    "ei = clahe.apply(gray_img)"
   ]
  },
  {
   "cell_type": "code",
   "execution_count": 6,
   "id": "567e984c",
   "metadata": {},
   "outputs": [
    {
     "data": {
      "text/plain": [
       "True"
      ]
     },
     "execution_count": 6,
     "metadata": {},
     "output_type": "execute_result"
    }
   ],
   "source": [
    "cv2.imwrite('ea2.jpg',ei)"
   ]
  },
  {
   "cell_type": "code",
   "execution_count": 7,
   "id": "d41f74ca",
   "metadata": {},
   "outputs": [
    {
     "name": "stdout",
     "output_type": "stream",
     "text": [
      "done enhancing\n"
     ]
    }
   ],
   "source": [
    "print('done enhancing')"
   ]
  },
  {
   "cell_type": "code",
   "execution_count": null,
   "id": "cfd52cec",
   "metadata": {},
   "outputs": [],
   "source": []
  }
 ],
 "metadata": {
  "kernelspec": {
   "display_name": "Python 3 (ipykernel)",
   "language": "python",
   "name": "python3"
  },
  "language_info": {
   "codemirror_mode": {
    "name": "ipython",
    "version": 3
   },
   "file_extension": ".py",
   "mimetype": "text/x-python",
   "name": "python",
   "nbconvert_exporter": "python",
   "pygments_lexer": "ipython3",
   "version": "3.11.5"
  }
 },
 "nbformat": 4,
 "nbformat_minor": 5
}
